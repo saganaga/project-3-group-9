{
 "cells": [
  {
   "cell_type": "code",
   "execution_count": null,
   "id": "69ad931a",
   "metadata": {},
   "outputs": [],
   "source": [
    "import os"
   ]
  },
  {
   "cell_type": "code",
   "execution_count": null,
   "id": "10e59633",
   "metadata": {},
   "outputs": [],
   "source": [
    "import csv"
   ]
  },
  {
   "cell_type": "code",
   "execution_count": null,
   "id": "c196505e",
   "metadata": {},
   "outputs": [],
   "source": [
    "import pandas as pd"
   ]
  },
  {
   "cell_type": "code",
   "execution_count": null,
   "id": "b2dfab5e",
   "metadata": {},
   "outputs": [],
   "source": [
    "csvpath = os.path.join('DataDowloadCSV.csv')"
   ]
  },
  {
   "cell_type": "code",
   "execution_count": null,
   "id": "05cf229c",
   "metadata": {},
   "outputs": [],
   "source": [
    "with open(csvpath, encoding='utf') as csvfile:\n",
    "    csvreader = csv.reader(csvfile, delimiter=\",\")"
   ]
  },
  {
   "cell_type": "code",
   "execution_count": null,
   "id": "29797d80",
   "metadata": {},
   "outputs": [],
   "source": [
    "print(csvreader)"
   ]
  },
  {
   "cell_type": "code",
   "execution_count": null,
   "id": "d6ae0285",
   "metadata": {},
   "outputs": [],
   "source": [
    "csv_header = next(csvreader)\n",
    "print(f\"CSV Header: {csv_header}\")"
   ]
  },
  {
   "cell_type": "code",
   "execution_count": null,
   "id": "81131677",
   "metadata": {},
   "outputs": [],
   "source": [
    "for row in csvreader:\n",
    "    print(row)"
   ]
  },
  {
   "cell_type": "code",
   "execution_count": null,
   "id": "aa04b425",
   "metadata": {},
   "outputs": [],
   "source": []
  }
 ],
 "metadata": {
  "kernelspec": {
   "display_name": "PythonData",
   "language": "python",
   "name": "pythondata"
  },
  "language_info": {
   "codemirror_mode": {
    "name": "ipython",
    "version": 3
   },
   "file_extension": ".py",
   "mimetype": "text/x-python",
   "name": "python",
   "nbconvert_exporter": "python",
   "pygments_lexer": "ipython3",
   "version": "3.9.13"
  }
 },
 "nbformat": 4,
 "nbformat_minor": 5
}
